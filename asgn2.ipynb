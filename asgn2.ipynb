{
  "nbformat": 4,
  "nbformat_minor": 0,
  "metadata": {
    "colab": {
      "provenance": []
    },
    "kernelspec": {
      "name": "python3",
      "display_name": "Python 3"
    },
    "language_info": {
      "name": "python"
    }
  },
  "cells": [
    {
      "cell_type": "markdown",
      "source": [
        "Given two jugs- a 4 liter and 3 liter capacity. Neither has any measurable markers on it. There\n",
        "is a pump which can be used to fill the jugs with water. Simulate the procedure in Python to get\n",
        "exactly 2 liter of water into 4-liter jug"
      ],
      "metadata": {
        "id": "-GXW6BHezAoJ"
      }
    },
    {
      "cell_type": "code",
      "execution_count": null,
      "metadata": {
        "id": "2824bd5c",
        "outputId": "d81aed11-5a48-437e-80e4-76360c225ed7",
        "colab": {
          "base_uri": "https://localhost:8080/"
        }
      },
      "outputs": [
        {
          "output_type": "stream",
          "name": "stdout",
          "text": [
            "Path from initial state to solution state:\n",
            "( 0 , 0 )\n",
            "( 0 , 3 )\n",
            "( 4 , 0 )\n",
            "( 4 , 3 )\n",
            "( 3 , 0 )\n",
            "( 1 , 3 )\n",
            "( 3 , 3 )\n",
            "( 4 , 2 )\n",
            "( 0 , 2 )\n"
          ]
        }
      ],
      "source": [
        "def BFS(a, b, target):\n",
        "    m = {}\n",
        "    isSolvable = False\n",
        "    path = []\n",
        "    q = []\n",
        "    q.append((0, 0))\n",
        "    while (len(q) > 0):\n",
        "\n",
        "        u = q.pop(0)\n",
        "\n",
        "        if ((u[0], u[1]) in m):\n",
        "            continue\n",
        "\n",
        "        if ((u[0] > a or u[1] > b or u[0] < 0 or u[1] < 0)):\n",
        "            continue\n",
        "\n",
        "        path.append([u[0], u[1]])\n",
        "        m[(u[0], u[1])] = 1\n",
        "\n",
        "        if (u[0] == target or u[1]==target):\n",
        "            isSolvable = True\n",
        "\n",
        "            if (u[0] == target):\n",
        "                if (u[1] != 0):\n",
        "                    path.append([u[0], 0])\n",
        "            else:\n",
        "                if (u[0] != 0):\n",
        "                    path.append([0, u[1]])\n",
        "            sz = len(path)\n",
        "            for i in range(sz):\n",
        "                print(\"(\", path[i][0], \",\",path[i][1], \")\")\n",
        "            break\n",
        "\n",
        "\n",
        "        q.append([u[0], b])\n",
        "        q.append([a, u[1]])\n",
        "\n",
        "        for ap in range(max(a, b) + 1):\n",
        "            c = u[0] + ap\n",
        "            d = u[1] - ap\n",
        "            if (c == a or (d == 0 and d >= 0)):\n",
        "                q.append([c, d])\n",
        "            c = u[0] - ap\n",
        "            d = u[1] + ap\n",
        "            if ((c == 0 and c >= 0) or d == b):\n",
        "                q.append([c, d])\n",
        "\n",
        "        q.append([a, 0])\n",
        "        q.append([0, b])\n",
        "\n",
        "    if (not isSolvable):\n",
        "        print(\"No solution\")\n",
        "\n",
        "print(\"Path from initial state to solution state:\")\n",
        "BFS(4,3,2)"
      ]
    },
    {
      "cell_type": "code",
      "source": [
        "#chatgpt\n",
        "from collections import deque\n",
        "\n",
        "def BFS(a, b, target):\n",
        "    visited = set()  # Keep track of visited states\n",
        "    queue = deque([(0, 0)])  # Initialize queue with initial state (0, 0)\n",
        "\n",
        "    while queue:\n",
        "        current_state = queue.popleft()  # Dequeue the current state\n",
        "\n",
        "        if current_state in visited:\n",
        "            continue\n",
        "\n",
        "        visited.add(current_state)\n",
        "\n",
        "        # Check if we have reached the target state\n",
        "        if target in current_state:\n",
        "            print(\"Path from initial state to solution state:\")\n",
        "            path = []\n",
        "            while current_state != (0, 0):\n",
        "                path.append(current_state)\n",
        "                current_state = parents[current_state]\n",
        "            path.append((0, 0))  # Add the initial state\n",
        "            path.reverse()  # Reverse the path to get the correct order\n",
        "            for state in path:\n",
        "                print(state)\n",
        "            return\n",
        "\n",
        "        x, y = current_state\n",
        "\n",
        "        # Generate all possible next states\n",
        "        next_states = [\n",
        "            (a, y),  # Fill jug a\n",
        "            (x, b),  # Fill jug b\n",
        "            (0, y),  # Empty jug a\n",
        "            (x, 0),  # Empty jug b\n",
        "            (x - min(x, b - y), y + min(x, b - y)),  # Pour from a to b\n",
        "            (x + min(y, a - x), y - min(y, a - x))   # Pour from b to a\n",
        "        ]\n",
        "\n",
        "        for next_state in next_states:\n",
        "            if next_state not in visited:\n",
        "                queue.append(next_state)\n",
        "                parents[next_state] = current_state  # Track parent for path reconstruction\n",
        "\n",
        "    print(\"No solution\")\n",
        "\n",
        "# Test the function with the given parameters\n",
        "parents = {}\n",
        "BFS(4, 3, 2)\n"
      ],
      "metadata": {
        "colab": {
          "base_uri": "https://localhost:8080/"
        },
        "outputId": "e8db626e-9db9-42b1-abfa-38c6239ef189",
        "id": "WU4IAk881sr-"
      },
      "execution_count": null,
      "outputs": [
        {
          "output_type": "stream",
          "name": "stdout",
          "text": [
            "Path from initial state to solution state:\n",
            "(0, 0)\n",
            "(0, 3)\n",
            "(3, 0)\n",
            "(3, 3)\n",
            "(4, 2)\n"
          ]
        }
      ]
    },
    {
      "cell_type": "markdown",
      "source": [
        "Write a Python program to implement Travelling Salesman Problem (TSP). Take the starting\n",
        "node from the user at run time."
      ],
      "metadata": {
        "id": "QVgE0yJY0HGw"
      }
    },
    {
      "cell_type": "code",
      "execution_count": null,
      "metadata": {
        "id": "eeab510d",
        "outputId": "c69d55ae-c601-4acb-ad28-499ec154dba3",
        "colab": {
          "base_uri": "https://localhost:8080/"
        }
      },
      "outputs": [
        {
          "output_type": "stream",
          "name": "stdout",
          "text": [
            "Enter the starting node:1\n",
            "The path followed is: [0, 2, 3]\n"
          ]
        },
        {
          "output_type": "execute_result",
          "data": {
            "text/plain": [
              "80"
            ]
          },
          "metadata": {},
          "execution_count": 3
        }
      ],
      "source": [
        "from sys import maxsize\n",
        "v=4\n",
        "\n",
        "def travel(graph,s):\n",
        "    vertex=[]\n",
        "    for i in range(v):\n",
        "        if i!=s:\n",
        "            vertex.append(i)\n",
        "\n",
        "    minpath=maxsize\n",
        "\n",
        "    while True:\n",
        "        present_cost=0\n",
        "        k=s\n",
        "        for i in range(len(vertex)):\n",
        "            present_cost+=graph[k][vertex[i]]\n",
        "            k=vertex[i]\n",
        "\n",
        "        present_cost+=graph[k][s]\n",
        "        minpath=min(minpath,present_cost)\n",
        "\n",
        "\n",
        "        if not permutations(vertex):\n",
        "            print(\"The path followed is:\",vertex[::-1])\n",
        "            break\n",
        "    return minpath\n",
        "\n",
        "def permutations(l):\n",
        "        a=len(l)\n",
        "        i=a-2\n",
        "\n",
        "        while (i>=0 and l[i]>l[i+1]):\n",
        "            i-=1\n",
        "\n",
        "        if i==-1:\n",
        "            return False\n",
        "\n",
        "        j=i+1\n",
        "        while j<a and l[j]>l[i]:\n",
        "            j+=1\n",
        "\n",
        "        j-=1\n",
        "        l[i],l[j]=l[j],l[i]\n",
        "        left=i+1\n",
        "        right=a-1\n",
        "\n",
        "        while left<right:\n",
        "            l[left],l[right]=l[right],l[left]\n",
        "            left+= 1\n",
        "            right-=1\n",
        "        return True\n",
        "\n",
        "\n",
        "graph=[[0,10,15,20],[10,0,35,25],[15,35,0,30],[20,25,30,0]]\n",
        "s=int(input(\"Enter the starting node:\"))\n",
        "travel(graph,s)"
      ]
    },
    {
      "cell_type": "markdown",
      "source": [
        "Write a code in python for the 8 puzzle problem by taking the following initial and final states"
      ],
      "metadata": {
        "id": "7Imr6AWv0aLg"
      }
    },
    {
      "cell_type": "code",
      "source": [
        "import copy\n",
        "\n",
        "initial_state = [[1, 2, 3], [8, ' ', 4], [7, 6, 5]]\n",
        "goal_state = [[2, 8, 1], [' ', 4, 3], [7, 6, 5]]\n",
        "\n",
        "def bfs(initial, goal):\n",
        "    open_list = [(initial, None)]  # Initial state and its parent node\n",
        "    closed_list = []\n",
        "    visited = set()\n",
        "\n",
        "    while open_list:\n",
        "        current_state, parent = open_list.pop(0)\n",
        "        closed_list.append((current_state, parent))\n",
        "        visited.add(tuple(map(tuple, current_state)))\n",
        "\n",
        "        if current_state == goal:\n",
        "            print_path(closed_list)\n",
        "            print('Success')\n",
        "            return\n",
        "\n",
        "        next_states = movegen(current_state)\n",
        "        for next_state in next_states:\n",
        "            if tuple(map(tuple, next_state)) not in visited:\n",
        "                open_list.append((next_state, current_state))\n",
        "                visited.add(tuple(map(tuple, next_state)))\n",
        "\n",
        "    print('No solution')\n",
        "\n",
        "def movegen(curr):\n",
        "    next_states = []\n",
        "    bi = blank_index(curr)\n",
        "\n",
        "    directions = [(1, 0), (-1, 0), (0, 1), (0, -1)]  # Down, Up, Right, Left\n",
        "\n",
        "    for dx, dy in directions:\n",
        "        new_x, new_y = bi[0] + dx, bi[1] + dy\n",
        "        if 0 <= new_x < 3 and 0 <= new_y < 3:\n",
        "            temp = copy.deepcopy(curr)\n",
        "            temp[bi[0]][bi[1]], temp[new_x][new_y] = temp[new_x][new_y], temp[bi[0]][bi[1]]\n",
        "            next_states.append(temp)\n",
        "\n",
        "    return next_states\n",
        "\n",
        "def blank_index(curr):\n",
        "    for i in range(3):\n",
        "        for j in range(3):\n",
        "            if curr[i][j] == ' ':\n",
        "                return (i, j)\n",
        "\n",
        "def print_path(closed_list):\n",
        "    path = []\n",
        "    current_state, parent = closed_list[-1]\n",
        "    while parent is not None:\n",
        "        path.append(current_state)\n",
        "        for state, p in closed_list:\n",
        "            if state == parent:\n",
        "                current_state = state\n",
        "                parent = p\n",
        "                break\n",
        "    path.append(current_state)\n",
        "    path.reverse()\n",
        "\n",
        "    print(\"Path to goal state:\")\n",
        "    for state in path:\n",
        "        print_state(state)\n",
        "        print()\n",
        "\n",
        "def print_state(state):\n",
        "    for row in state:\n",
        "        print(row)\n",
        "\n",
        "bfs(initial_state, goal_state)\n"
      ],
      "metadata": {
        "colab": {
          "base_uri": "https://localhost:8080/"
        },
        "id": "i7lCnFxF3xPA",
        "outputId": "ee6453f1-f877-49a0-99e0-c899adbf641d"
      },
      "execution_count": null,
      "outputs": [
        {
          "output_type": "stream",
          "name": "stdout",
          "text": [
            "Path to goal state:\n",
            "[1, 2, 3]\n",
            "[8, ' ', 4]\n",
            "[7, 6, 5]\n",
            "\n",
            "[1, ' ', 3]\n",
            "[8, 2, 4]\n",
            "[7, 6, 5]\n",
            "\n",
            "[' ', 1, 3]\n",
            "[8, 2, 4]\n",
            "[7, 6, 5]\n",
            "\n",
            "[8, 1, 3]\n",
            "[' ', 2, 4]\n",
            "[7, 6, 5]\n",
            "\n",
            "[8, 1, 3]\n",
            "[2, ' ', 4]\n",
            "[7, 6, 5]\n",
            "\n",
            "[8, 1, 3]\n",
            "[2, 4, ' ']\n",
            "[7, 6, 5]\n",
            "\n",
            "[8, 1, ' ']\n",
            "[2, 4, 3]\n",
            "[7, 6, 5]\n",
            "\n",
            "[8, ' ', 1]\n",
            "[2, 4, 3]\n",
            "[7, 6, 5]\n",
            "\n",
            "[' ', 8, 1]\n",
            "[2, 4, 3]\n",
            "[7, 6, 5]\n",
            "\n",
            "[2, 8, 1]\n",
            "[' ', 4, 3]\n",
            "[7, 6, 5]\n",
            "\n",
            "Success\n"
          ]
        }
      ]
    }
  ]
}